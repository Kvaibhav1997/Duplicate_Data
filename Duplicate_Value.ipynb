{
  "nbformat": 4,
  "nbformat_minor": 0,
  "metadata": {
    "colab": {
      "name": "Duplicate Value ",
      "provenance": []
    },
    "kernelspec": {
      "name": "python3",
      "display_name": "Python 3"
    }
  },
  "cells": [
    {
      "cell_type": "code",
      "metadata": {
        "id": "NEEvKXxwyQV6"
      },
      "source": [
        "import numpy as np\n",
        "import pandas as pd\n"
      ],
      "execution_count": 2,
      "outputs": []
    },
    {
      "cell_type": "code",
      "metadata": {
        "id": "KZdbn-vsY5bu",
        "outputId": "dd787c9d-a4c1-4f4c-f74a-e851e1824b9a",
        "colab": {
          "base_uri": "https://localhost:8080/"
        }
      },
      "source": [
        "#the first step is to load the dataset and find out the shape of that dataset.\n",
        "a1=pd.read_csv('weatherHistory.csv')\n",
        "a1.shape"
      ],
      "execution_count": 42,
      "outputs": [
        {
          "output_type": "execute_result",
          "data": {
            "text/plain": [
              "(96453, 12)"
            ]
          },
          "metadata": {
            "tags": []
          },
          "execution_count": 42
        }
      ]
    },
    {
      "cell_type": "code",
      "metadata": {
        "id": "qkpBDxBZZSdc",
        "outputId": "2fc201c3-d9bb-4128-d2a1-ece4acf8266c",
        "colab": {
          "base_uri": "https://localhost:8080/"
        }
      },
      "source": [
        "#here it check the duplicate value in the dataset.\n",
        "dupes=a1.duplicated(keep='first')# here keep='first' means it considers first value as unique and rest of the same values as duplicate.\n",
        "sum(dupes)#this gives the total number of duplicates."
      ],
      "execution_count": 47,
      "outputs": [
        {
          "output_type": "execute_result",
          "data": {
            "text/plain": [
              "24"
            ]
          },
          "metadata": {
            "tags": []
          },
          "execution_count": 47
        }
      ]
    },
    {
      "cell_type": "code",
      "metadata": {
        "id": "qUdvz2fAcYgh"
      },
      "source": [
        "#It removes the duplicates values\n",
        "remove_dups=a1.drop_duplicates()"
      ],
      "execution_count": 48,
      "outputs": []
    },
    {
      "cell_type": "code",
      "metadata": {
        "id": "Mssg2acfcg8f",
        "outputId": "6df1f28e-cbfe-4337-85d2-61b2b6a9e1ae",
        "colab": {
          "base_uri": "https://localhost:8080/"
        }
      },
      "source": [
        "remove_dups.shape# this gives the new shape of the dataset after removing duplicate value."
      ],
      "execution_count": 49,
      "outputs": [
        {
          "output_type": "execute_result",
          "data": {
            "text/plain": [
              "(96429, 12)"
            ]
          },
          "metadata": {
            "tags": []
          },
          "execution_count": 49
        }
      ]
    }
  ]
}